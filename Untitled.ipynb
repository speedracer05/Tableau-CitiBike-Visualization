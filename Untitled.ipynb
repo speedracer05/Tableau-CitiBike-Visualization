{
 "cells": [
  {
   "cell_type": "code",
   "execution_count": null,
   "id": "0ba0c2c8",
   "metadata": {},
   "outputs": [],
   "source": [
    "import pandas as pd"
   ]
  },
  {
   "cell_type": "code",
   "execution_count": null,
   "id": "62d4209f",
   "metadata": {},
   "outputs": [],
   "source": [
    "# specify data path\n",
    "jan = \"../Tableau-CitiBike-Visualization/Data/JC-202101-citibike-tripdata.csv\"\n",
    "feb = \"../Tableau-CitiBike-Visualization/Data/JC-202012-citibike-tripdata.csv\"\n",
    "mar = \"../Tableau-CitiBike-Visualization/Data/JC-202103-citibike-tripdata.csv\"\n",
    "\n",
    "# read csv file into jupyter notebook\n",
    "# examine column count and compare data headers with other files for consistency\n",
    "jan_data = pd.read_csv(jan)\n",
    "jan_data.head(1)"
   ]
  },
  {
   "cell_type": "code",
   "execution_count": null,
   "id": "c4fb4126",
   "metadata": {},
   "outputs": [],
   "source": [
    "# \n",
    "print(len(jan_data.columns))"
   ]
  },
  {
   "cell_type": "code",
   "execution_count": null,
   "id": "09bb0902",
   "metadata": {},
   "outputs": [],
   "source": [
    "feb_data = pd.read_csv(feb)\n",
    "feb_data.head(2)"
   ]
  },
  {
   "cell_type": "code",
   "execution_count": null,
   "id": "83c88caa",
   "metadata": {},
   "outputs": [],
   "source": [
    "feb_data = pd.read_csv(feb)\n",
    "feb_data.head(0)\n",
    "print(len(feb_data.columns))"
   ]
  },
  {
   "cell_type": "code",
   "execution_count": null,
   "id": "d5356541",
   "metadata": {},
   "outputs": [],
   "source": [
    "mar_data = pd.read_csv(mar)\n",
    "mar_data.head(1)"
   ]
  },
  {
   "cell_type": "code",
   "execution_count": null,
   "id": "0e8e526a",
   "metadata": {},
   "outputs": [],
   "source": [
    "print(len(mar_data.columns))"
   ]
  }
 ],
 "metadata": {
  "kernelspec": {
   "display_name": "Python 3",
   "language": "python",
   "name": "python3"
  },
  "language_info": {
   "codemirror_mode": {
    "name": "ipython",
    "version": 3
   },
   "file_extension": ".py",
   "mimetype": "text/x-python",
   "name": "python",
   "nbconvert_exporter": "python",
   "pygments_lexer": "ipython3",
   "version": "3.6.13"
  }
 },
 "nbformat": 4,
 "nbformat_minor": 5
}
