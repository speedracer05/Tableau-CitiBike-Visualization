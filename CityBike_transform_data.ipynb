{
 "cells": [
  {
   "cell_type": "code",
   "execution_count": 1,
   "id": "0ba0c2c8",
   "metadata": {},
   "outputs": [],
   "source": [
    "import pandas as pd"
   ]
  },
  {
   "cell_type": "code",
   "execution_count": 2,
   "id": "62d4209f",
   "metadata": {},
   "outputs": [
    {
     "data": {
      "text/html": [
       "<div>\n",
       "<style scoped>\n",
       "    .dataframe tbody tr th:only-of-type {\n",
       "        vertical-align: middle;\n",
       "    }\n",
       "\n",
       "    .dataframe tbody tr th {\n",
       "        vertical-align: top;\n",
       "    }\n",
       "\n",
       "    .dataframe thead th {\n",
       "        text-align: right;\n",
       "    }\n",
       "</style>\n",
       "<table border=\"1\" class=\"dataframe\">\n",
       "  <thead>\n",
       "    <tr style=\"text-align: right;\">\n",
       "      <th></th>\n",
       "      <th>tripduration</th>\n",
       "      <th>starttime</th>\n",
       "      <th>stoptime</th>\n",
       "      <th>start station id</th>\n",
       "      <th>start station name</th>\n",
       "      <th>start station latitude</th>\n",
       "      <th>start station longitude</th>\n",
       "      <th>end station id</th>\n",
       "      <th>end station name</th>\n",
       "      <th>end station latitude</th>\n",
       "      <th>end station longitude</th>\n",
       "      <th>bikeid</th>\n",
       "      <th>usertype</th>\n",
       "      <th>birth year</th>\n",
       "      <th>gender</th>\n",
       "    </tr>\n",
       "  </thead>\n",
       "  <tbody>\n",
       "    <tr>\n",
       "      <th>0</th>\n",
       "      <td>266</td>\n",
       "      <td>2021-01-01 00:03:35.5100</td>\n",
       "      <td>2021-01-01 00:08:01.7770</td>\n",
       "      <td>3273</td>\n",
       "      <td>Manila &amp; 1st</td>\n",
       "      <td>40.721651</td>\n",
       "      <td>-74.042884</td>\n",
       "      <td>3209</td>\n",
       "      <td>Brunswick St</td>\n",
       "      <td>40.724176</td>\n",
       "      <td>-74.050656</td>\n",
       "      <td>42494</td>\n",
       "      <td>Subscriber</td>\n",
       "      <td>1988</td>\n",
       "      <td>1</td>\n",
       "    </tr>\n",
       "  </tbody>\n",
       "</table>\n",
       "</div>"
      ],
      "text/plain": [
       "   tripduration                 starttime                  stoptime  \\\n",
       "0           266  2021-01-01 00:03:35.5100  2021-01-01 00:08:01.7770   \n",
       "\n",
       "   start station id start station name  start station latitude  \\\n",
       "0              3273       Manila & 1st               40.721651   \n",
       "\n",
       "   start station longitude  end station id end station name  \\\n",
       "0               -74.042884            3209     Brunswick St   \n",
       "\n",
       "   end station latitude  end station longitude  bikeid    usertype  \\\n",
       "0             40.724176             -74.050656   42494  Subscriber   \n",
       "\n",
       "   birth year  gender  \n",
       "0        1988       1  "
      ]
     },
     "execution_count": 2,
     "metadata": {},
     "output_type": "execute_result"
    }
   ],
   "source": [
    "# specify data path\n",
    "jan = \"../Tableau-CitiBike-Visualization/Data/JC-202101-citibike-tripdata.csv\"\n",
    "feb = \"../Tableau-CitiBike-Visualization/Data/JC-202012-citibike-tripdata.csv\"\n",
    "mar = \"../Tableau-CitiBike-Visualization/Data/JC-202103-citibike-tripdata.csv\"\n",
    "\n",
    "# read csv file into jupyter notebook\n",
    "# Examine column count and compare data headers with other files for consistency\n",
    "jan_data = pd.read_csv(jan)\n",
    "jan_data.head(1)"
   ]
  },
  {
   "cell_type": "code",
   "execution_count": 3,
   "id": "09bb0902",
   "metadata": {},
   "outputs": [
    {
     "data": {
      "text/html": [
       "<div>\n",
       "<style scoped>\n",
       "    .dataframe tbody tr th:only-of-type {\n",
       "        vertical-align: middle;\n",
       "    }\n",
       "\n",
       "    .dataframe tbody tr th {\n",
       "        vertical-align: top;\n",
       "    }\n",
       "\n",
       "    .dataframe thead th {\n",
       "        text-align: right;\n",
       "    }\n",
       "</style>\n",
       "<table border=\"1\" class=\"dataframe\">\n",
       "  <thead>\n",
       "    <tr style=\"text-align: right;\">\n",
       "      <th></th>\n",
       "      <th>tripduration</th>\n",
       "      <th>starttime</th>\n",
       "      <th>stoptime</th>\n",
       "      <th>start station id</th>\n",
       "      <th>start station name</th>\n",
       "      <th>start station latitude</th>\n",
       "      <th>start station longitude</th>\n",
       "      <th>end station id</th>\n",
       "      <th>end station name</th>\n",
       "      <th>end station latitude</th>\n",
       "      <th>end station longitude</th>\n",
       "      <th>bikeid</th>\n",
       "      <th>usertype</th>\n",
       "      <th>birth year</th>\n",
       "      <th>gender</th>\n",
       "    </tr>\n",
       "  </thead>\n",
       "  <tbody>\n",
       "    <tr>\n",
       "      <th>0</th>\n",
       "      <td>146</td>\n",
       "      <td>2020-12-01 00:02:50.1450</td>\n",
       "      <td>2020-12-01 00:05:16.1940</td>\n",
       "      <td>3202</td>\n",
       "      <td>Newport PATH</td>\n",
       "      <td>40.727224</td>\n",
       "      <td>-74.033759</td>\n",
       "      <td>3199</td>\n",
       "      <td>Newport Pkwy</td>\n",
       "      <td>40.728745</td>\n",
       "      <td>-74.032108</td>\n",
       "      <td>42308</td>\n",
       "      <td>Subscriber</td>\n",
       "      <td>1989</td>\n",
       "      <td>2</td>\n",
       "    </tr>\n",
       "  </tbody>\n",
       "</table>\n",
       "</div>"
      ],
      "text/plain": [
       "   tripduration                 starttime                  stoptime  \\\n",
       "0           146  2020-12-01 00:02:50.1450  2020-12-01 00:05:16.1940   \n",
       "\n",
       "   start station id start station name  start station latitude  \\\n",
       "0              3202       Newport PATH               40.727224   \n",
       "\n",
       "   start station longitude  end station id end station name  \\\n",
       "0               -74.033759            3199     Newport Pkwy   \n",
       "\n",
       "   end station latitude  end station longitude  bikeid    usertype  \\\n",
       "0             40.728745             -74.032108   42308  Subscriber   \n",
       "\n",
       "   birth year  gender  \n",
       "0        1989       2  "
      ]
     },
     "execution_count": 3,
     "metadata": {},
     "output_type": "execute_result"
    }
   ],
   "source": [
    "# Examine df head\n",
    "feb_data = pd.read_csv(feb)\n",
    "feb_data.head(1)"
   ]
  },
  {
   "cell_type": "code",
   "execution_count": 4,
   "id": "d5356541",
   "metadata": {},
   "outputs": [
    {
     "data": {
      "text/html": [
       "<div>\n",
       "<style scoped>\n",
       "    .dataframe tbody tr th:only-of-type {\n",
       "        vertical-align: middle;\n",
       "    }\n",
       "\n",
       "    .dataframe tbody tr th {\n",
       "        vertical-align: top;\n",
       "    }\n",
       "\n",
       "    .dataframe thead th {\n",
       "        text-align: right;\n",
       "    }\n",
       "</style>\n",
       "<table border=\"1\" class=\"dataframe\">\n",
       "  <thead>\n",
       "    <tr style=\"text-align: right;\">\n",
       "      <th></th>\n",
       "      <th>ride_id</th>\n",
       "      <th>rideable_type</th>\n",
       "      <th>started_at</th>\n",
       "      <th>ended_at</th>\n",
       "      <th>start_station_name</th>\n",
       "      <th>start_station_id</th>\n",
       "      <th>end_station_name</th>\n",
       "      <th>end_station_id</th>\n",
       "      <th>start_lat</th>\n",
       "      <th>start_lng</th>\n",
       "      <th>end_lat</th>\n",
       "      <th>end_lng</th>\n",
       "      <th>member_casual</th>\n",
       "    </tr>\n",
       "  </thead>\n",
       "  <tbody>\n",
       "    <tr>\n",
       "      <th>0</th>\n",
       "      <td>ABBBB4D89C620898</td>\n",
       "      <td>docked_bike</td>\n",
       "      <td>2021-03-03 10:32:07</td>\n",
       "      <td>2021-03-03 10:32:40</td>\n",
       "      <td>Jackson Square</td>\n",
       "      <td>JC063</td>\n",
       "      <td>Jackson Square</td>\n",
       "      <td>JC063</td>\n",
       "      <td>40.71113</td>\n",
       "      <td>-74.0789</td>\n",
       "      <td>40.71113</td>\n",
       "      <td>-74.0789</td>\n",
       "      <td>member</td>\n",
       "    </tr>\n",
       "  </tbody>\n",
       "</table>\n",
       "</div>"
      ],
      "text/plain": [
       "            ride_id rideable_type           started_at             ended_at  \\\n",
       "0  ABBBB4D89C620898   docked_bike  2021-03-03 10:32:07  2021-03-03 10:32:40   \n",
       "\n",
       "  start_station_name start_station_id end_station_name end_station_id  \\\n",
       "0     Jackson Square            JC063   Jackson Square          JC063   \n",
       "\n",
       "   start_lat  start_lng   end_lat  end_lng member_casual  \n",
       "0   40.71113   -74.0789  40.71113 -74.0789        member  "
      ]
     },
     "execution_count": 4,
     "metadata": {},
     "output_type": "execute_result"
    }
   ],
   "source": [
    "# Examine df head\n",
    "mar_data = pd.read_csv(mar)\n",
    "mar_data.head(1)"
   ]
  },
  {
   "cell_type": "code",
   "execution_count": 5,
   "id": "c4fb4126",
   "metadata": {},
   "outputs": [
    {
     "name": "stdout",
     "output_type": "stream",
     "text": [
      "15\n",
      "15\n",
      "13\n"
     ]
    }
   ],
   "source": [
    "# Check number of columns\n",
    "print(len(jan_data.columns))\n",
    "print(len(feb_data.columns))\n",
    "print(len(mar_data.columns))"
   ]
  },
  {
   "cell_type": "code",
   "execution_count": 6,
   "id": "e5656dbb",
   "metadata": {},
   "outputs": [
    {
     "name": "stdout",
     "output_type": "stream",
     "text": [
      "23318\n"
     ]
    }
   ],
   "source": [
    "# combine jan & feb df into one df since the df heads are the same\n",
    "combine_jan_feb_df = pd.concat([jan_data, feb_data])\n",
    "\n",
    "# combine_jan_feb_df.head(1)  #used to check df, commented out\n",
    "\n",
    "# check number of rows in index after concat\n",
    "print(len(combine_jan_feb_df.index))"
   ]
  },
  {
   "cell_type": "code",
   "execution_count": 10,
   "id": "5eebfce6",
   "metadata": {},
   "outputs": [
    {
     "data": {
      "text/html": [
       "<div>\n",
       "<style scoped>\n",
       "    .dataframe tbody tr th:only-of-type {\n",
       "        vertical-align: middle;\n",
       "    }\n",
       "\n",
       "    .dataframe tbody tr th {\n",
       "        vertical-align: top;\n",
       "    }\n",
       "\n",
       "    .dataframe thead th {\n",
       "        text-align: right;\n",
       "    }\n",
       "</style>\n",
       "<table border=\"1\" class=\"dataframe\">\n",
       "  <thead>\n",
       "    <tr style=\"text-align: right;\">\n",
       "      <th></th>\n",
       "      <th>tripduration</th>\n",
       "      <th>started_at</th>\n",
       "      <th>ended_at</th>\n",
       "      <th>start_station_id</th>\n",
       "      <th>start_station_name</th>\n",
       "      <th>start_lat</th>\n",
       "      <th>start_lng</th>\n",
       "      <th>end_station_id</th>\n",
       "      <th>end_station_name</th>\n",
       "      <th>end_lat</th>\n",
       "      <th>end_lng</th>\n",
       "    </tr>\n",
       "  </thead>\n",
       "  <tbody>\n",
       "  </tbody>\n",
       "</table>\n",
       "</div>"
      ],
      "text/plain": [
       "Empty DataFrame\n",
       "Columns: [tripduration, started_at, ended_at, start_station_id, start_station_name, start_lat, start_lng, end_station_id, end_station_name, end_lat, end_lng]\n",
       "Index: []"
      ]
     },
     "execution_count": 10,
     "metadata": {},
     "output_type": "execute_result"
    }
   ],
   "source": [
    "# rename column headers\n",
    "renamed_jan_feb_df = combine_jan_feb_df\n",
    "renamed_jan_feb_df.rename(columns={\"starttime\":\"started_at\",\n",
    "                        \"stoptime\":\"ended_at\",\n",
    "                         \"start station id\":\"start_station_id\",\n",
    "                         \"end station id\":\"end_station_id\",\n",
    "                         \"start station name\":\"start_station_name\",\n",
    "                         \"end station name\":\"end_station_name\",\n",
    "                         \"start station latitude\":\"start_lat\",\n",
    "                         \"end station latitude\":\"end_lat\",\n",
    "                         \"start station longitude\":\"start_lng\",\n",
    "                         \"end station longitude\":\"end_lng\",\n",
    "                        \"start station name\":\"start_station_name\",\n",
    "                        }, inplace=True)\n",
    "renamed_jan_feb_df.head(0)"
   ]
  }
 ],
 "metadata": {
  "kernelspec": {
   "display_name": "Python 3",
   "language": "python",
   "name": "python3"
  },
  "language_info": {
   "codemirror_mode": {
    "name": "ipython",
    "version": 3
   },
   "file_extension": ".py",
   "mimetype": "text/x-python",
   "name": "python",
   "nbconvert_exporter": "python",
   "pygments_lexer": "ipython3",
   "version": "3.6.13"
  }
 },
 "nbformat": 4,
 "nbformat_minor": 5
}
