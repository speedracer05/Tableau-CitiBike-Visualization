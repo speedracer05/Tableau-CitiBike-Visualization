{
 "cells": [
  {
   "cell_type": "markdown",
   "id": "4b68578e",
   "metadata": {},
   "source": [
    "#### City Bike Analytics Workbook"
   ]
  },
  {
   "cell_type": "code",
   "execution_count": null,
   "id": "0ba0c2c8",
   "metadata": {},
   "outputs": [],
   "source": [
    "import pandas as pd"
   ]
  },
  {
   "cell_type": "code",
   "execution_count": null,
   "id": "62d4209f",
   "metadata": {},
   "outputs": [],
   "source": [
    "# specify data path\n",
    "jan = \"../Tableau-CitiBike-Visualization/Data/JC-202101-citibike-tripdata.csv\"\n",
    "feb = \"../Tableau-CitiBike-Visualization/Data/JC-202102-citibike-tripdata.csv\"\n",
    "mar = \"../Tableau-CitiBike-Visualization/Data/JC-202103-citibike-tripdata.csv\"\n",
    "\n",
    "# read csv file into jupyter notebook; read datetime columns correctly by using 'parse_dates' \n",
    "jan_data = pd.read_csv(jan)\n",
    "#                        , parse_dates=['starttime', 'stoptime'])\n",
    "feb_data = pd.read_csv(feb)\n",
    "#                        , parse_dates=['started_at', 'ended_at'])\n",
    "mar_data = pd.read_csv(mar)\n",
    "#                        , parse_dates=['started_at', 'ended_at'])"
   ]
  },
  {
   "cell_type": "code",
   "execution_count": null,
   "id": "5fd24585",
   "metadata": {},
   "outputs": [],
   "source": [
    "# Splitting timestamp columns into separate date and time columns\n",
    "\n",
    "jan_data['start_date'] = pd.to_datetime(jan_data['starttime']).dt.date\n",
    "jan_data['start_time'] = pd.to_datetime(jan_data['starttime']).dt.time\n",
    "jan_data['end_date'] = pd.to_datetime(jan_data['stoptime']).dt.date\n",
    "jan_data['end_time'] = pd.to_datetime(jan_data['stoptime']).dt.time\n",
    "\n",
    "feb_data['start_date'] = pd.to_datetime(feb_data['started_at']).dt.date\n",
    "feb_data['start_time'] = pd.to_datetime(feb_data['started_at']).dt.time\n",
    "feb_data['end_date'] = pd.to_datetime(feb_data['ended_at']).dt.date\n",
    "feb_data['end_time'] = pd.to_datetime(feb_data['ended_at']).dt.time\n",
    "mar_data['start_date'] = pd.to_datetime(mar_data['started_at']).dt.date\n",
    "mar_data['start_time'] = pd.to_datetime(mar_data['started_at']).dt.time\n",
    "mar_data['end_date'] = pd.to_datetime(mar_data['ended_at']).dt.date\n",
    "mar_data['end_time'] = pd.to_datetime(mar_data['ended_at']).dt.time"
   ]
  },
  {
   "cell_type": "code",
   "execution_count": null,
   "id": "0e8ac428",
   "metadata": {},
   "outputs": [],
   "source": [
    "feb_data.head(1)"
   ]
  },
  {
   "cell_type": "code",
   "execution_count": null,
   "id": "82458543",
   "metadata": {},
   "outputs": [],
   "source": [
    "feb_data.dtypes"
   ]
  },
  {
   "cell_type": "code",
   "execution_count": null,
   "id": "080e8f88",
   "metadata": {},
   "outputs": [],
   "source": [
    "# rename columns\n",
    "new_jan_df = jan_data\n",
    "new_jan_df.rename(columns={\"tripduration\":\"trip_duration\",\n",
    "                           \"starttime\":\"started_at\",\n",
    "                           \"stoptime\":\"ended_at\",\n",
    "                           \"start station id\":\"start_station_id\",\n",
    "                           \"end station id\":\"end_station_id\",\n",
    "                           \"start station name\":\"start_station_name\",\n",
    "                           \"end station name\":\"end_station_name\",\n",
    "                           \"start station latitude\":\"start_lat\",\n",
    "                           \"end station latitude\":\"end_lat\",\n",
    "                           \"start station longitude\":\"start_lng\",\n",
    "                           \"end station longitude\":\"end_lng\",\n",
    "                           \"start station name\":\"start_station_name\",\n",
    "                           \"end station name\":\"end_station_name\"\n",
    "                        }, inplace=True)"
   ]
  },
  {
   "cell_type": "code",
   "execution_count": null,
   "id": "c4fb4126",
   "metadata": {},
   "outputs": [],
   "source": [
    "# drop columns to harmonize columns with feb and mar datasets\n",
    "new_jan_df.drop([\"trip_duration\", \"usertype\", \"bikeid\", \"birth year\", \"gender\"], axis=1, inplace=True)"
   ]
  },
  {
   "cell_type": "code",
   "execution_count": null,
   "id": "e5656dbb",
   "metadata": {},
   "outputs": [],
   "source": [
    "# combine feb & mar df into one df since the df heads are the same\n",
    "new_feb_mar_df = pd.concat([feb_data, mar_data])"
   ]
  },
  {
   "cell_type": "code",
   "execution_count": null,
   "id": "5eebfce6",
   "metadata": {},
   "outputs": [],
   "source": [
    "# drop columns to harmonize columns with jan dataset\n",
    "new_feb_mar_df.drop([\"ride_id\", \"rideable_type\", \"member_casual\"], axis=1, inplace=True)"
   ]
  },
  {
   "cell_type": "code",
   "execution_count": null,
   "id": "ad7df041",
   "metadata": {},
   "outputs": [],
   "source": [
    "# merge two dataframes together\n",
    "merge_df = pd.concat([new_jan_df, new_feb_mar_df], axis=0, sort=False)"
   ]
  },
  {
   "cell_type": "code",
   "execution_count": null,
   "id": "38ecd90b",
   "metadata": {},
   "outputs": [],
   "source": [
    "# Add ride id column to uniquely identify each ride\n",
    "merge_df[\"rideid\"] = merge_df[\"start_station_id\"].map(str) + \"_\" + merge_df[\"end_station_id\"].map(str)\n",
    "merge_df.head(1)"
   ]
  },
  {
   "cell_type": "code",
   "execution_count": null,
   "id": "45bd89c6",
   "metadata": {},
   "outputs": [],
   "source": [
    "merge_df = merge_df.astype({\"start_date\": str})\n",
    "\n",
    "# break out year\n",
    "merge_df['trip_year'] = merge_df.start_date.str.split(\"-\", expand=True)[0]\n",
    "merge_df.head(1)"
   ]
  },
  {
   "cell_type": "code",
   "execution_count": null,
   "id": "4b55bdc2",
   "metadata": {},
   "outputs": [],
   "source": [
    "merge_df.dtypes"
   ]
  },
  {
   "cell_type": "code",
   "execution_count": null,
   "id": "62b6f93c",
   "metadata": {},
   "outputs": [],
   "source": [
    "# change column dtype to string\n",
    "# merge_df = merge_df.astype({\"start_date\": str})\n",
    "\n",
    "# break out month\n",
    "merge_df['trip_month'] = merge_df.start_date.str.split(\"-\", expand=True)[1]"
   ]
  },
  {
   "cell_type": "code",
   "execution_count": null,
   "id": "71ada40f",
   "metadata": {},
   "outputs": [],
   "source": [
    "# merge_df['end_time'] = pd.to_datetime(merge_df['start_time'], errors='coerce')\n",
    "# merge_df['start_time'] = pd.to_datetime(merge_df['start_time'], errors='coerce')"
   ]
  },
  {
   "cell_type": "code",
   "execution_count": null,
   "id": "b71d9c32",
   "metadata": {},
   "outputs": [],
   "source": [
    "# calculated travel time between bike stations\n",
    "# merge_df['travel_time (min)'] = merge_df['end_time'].dt.minute - merge_df['start_time'].dt.minute\n",
    "\n",
    "merge_df.head(2)"
   ]
  },
  {
   "cell_type": "code",
   "execution_count": null,
   "id": "0c9a938d",
   "metadata": {},
   "outputs": [],
   "source": [
    "merge_df[\"trip_month\"].replace({\"01\": \"January\", \"02\": \"February\", \"03\": \"March\"}, inplace=True)\n",
    "merge_df.head(1)"
   ]
  },
  {
   "cell_type": "code",
   "execution_count": null,
   "id": "2c57685d",
   "metadata": {},
   "outputs": [],
   "source": [
    "# drop rows that have blank or NaN values\n",
    "merge_df.dropna(subset=[\"end_lat\", \"end_lng\", \"end_station_name\"], inplace = True)\n",
    "\n",
    "# defective bikes are likely to be returned to the same station\n",
    "# drop rows where both start and end stations are the same\n",
    "merge_df = merge_df[merge_df[\"start_station_name\"] != merge_df[\"end_station_name\"]]"
   ]
  },
  {
   "cell_type": "markdown",
   "id": "54d62452",
   "metadata": {},
   "source": [
    "###### Calculate distance of each ride point a to b."
   ]
  },
  {
   "cell_type": "code",
   "execution_count": null,
   "id": "a5ae86b9",
   "metadata": {},
   "outputs": [],
   "source": [
    "from math import sin, cos, sqrt, atan2, radians\n",
    "\n",
    "df = merge_df\n",
    "\n",
    "# For lat and lon, convert degrees to radians\n",
    "lat1 = [radians(lat) for lat in df[\"start_lat\"]]\n",
    "lon1 = [radians(lon) for lon in df[\"start_lng\"]]\n",
    "lat2 = [radians(lat) for lat in df[\"end_lat\"]]\n",
    "lon2 = [radians(lon) for lon in df[\"end_lng\"]]\n",
    "\n",
    "# Convert lists into series\n",
    "lat1 = pd.Series(lat1)\n",
    "lon1 = pd.Series(lon1)\n",
    "lat2 = pd.Series(lat2)\n",
    "lon2 = pd.Series(lon2)\n",
    "\n",
    "# Calculate difference between each set of latitude and longitude\n",
    "dlat = lat2 - lat1\n",
    "dlon = lon2 - lon1"
   ]
  },
  {
   "cell_type": "code",
   "execution_count": null,
   "id": "ae0f499d",
   "metadata": {},
   "outputs": [],
   "source": [
    "# Approximate radius of Earth in km\n",
    "R = 6373.0\n",
    "\n",
    "# Empty list to store trip distances\n",
    "distance = []\n",
    "\n",
    "for i in range(0, len(lat1)):\n",
    "    \n",
    "    a = sin(dlat[i] / 2)**2 + cos(lat1[i]) * cos(lat2[i]) * sin(dlon[i] / 2)**2\n",
    "    c = 2 * atan2(sqrt(a), sqrt(1 - a))\n",
    "\n",
    "    # Get distance and convert km to miles\n",
    "    miles = (R * c) * .6214\n",
    "    \n",
    "    # Append miles travel to 'distance' list\n",
    "    distance.append(miles)"
   ]
  },
  {
   "cell_type": "code",
   "execution_count": null,
   "id": "f43873f6",
   "metadata": {},
   "outputs": [],
   "source": [
    "# Add trip distance as new column to data frame\n",
    "df.loc[:, \"trip_distance (mi)\"] = distance\n",
    "\n",
    "# df[\"tripdistance (mi)\"] = distance\n",
    "df"
   ]
  },
  {
   "cell_type": "code",
   "execution_count": null,
   "id": "e514c779",
   "metadata": {},
   "outputs": [],
   "source": [
    "df.to_csv(\"../Tableau-CitiBike-Visualization/Output/upload_to_tableau.csv\")"
   ]
  },
  {
   "cell_type": "code",
   "execution_count": null,
   "id": "9994d928",
   "metadata": {},
   "outputs": [],
   "source": [
    "trips_df = df.groupby([\"start_station_name\",\"end_station_name\"]).size().reset_index(name = \"Number_of_Trips\")\n",
    "\n",
    "trips_df.to_csv(\"../Tableau-CitiBike-Visualization/Output/start_end_rides.csv\")"
   ]
  },
  {
   "cell_type": "code",
   "execution_count": null,
   "id": "1b3fb0a1",
   "metadata": {},
   "outputs": [],
   "source": []
  },
  {
   "cell_type": "code",
   "execution_count": null,
   "id": "882b503f",
   "metadata": {},
   "outputs": [],
   "source": []
  }
 ],
 "metadata": {
  "kernelspec": {
   "display_name": "Python 3",
   "language": "python",
   "name": "python3"
  },
  "language_info": {
   "codemirror_mode": {
    "name": "ipython",
    "version": 3
   },
   "file_extension": ".py",
   "mimetype": "text/x-python",
   "name": "python",
   "nbconvert_exporter": "python",
   "pygments_lexer": "ipython3",
   "version": "3.6.13"
  }
 },
 "nbformat": 4,
 "nbformat_minor": 5
}
